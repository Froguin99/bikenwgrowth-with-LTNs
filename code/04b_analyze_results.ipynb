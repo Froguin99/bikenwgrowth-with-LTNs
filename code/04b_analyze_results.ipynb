{
 "cells": [
  {
   "cell_type": "markdown",
   "metadata": {},
   "source": [
    "# Step 4 - Analysis of bicycle network results\n",
    "## Project: Growing Urban Bicycle Networks with LTNs"
   ]
  },
  {
   "cell_type": "markdown",
   "metadata": {},
   "source": [
    "This notebook takes the existing infrastructure, the results from 03_poi_based_generation and calculates/analyzes a number of measures:\n",
    "* cost (length)\n",
    "* coverage  \n",
    "* directness  \n",
    "* efficiency\n",
    "* overlap with existing networks\n",
    "\n",
    "Contact: Chris Larkin (c.larkin@ncl.ac.uk)  \n",
    "Created: 2020-07-08  \n",
    "Last modified: 2024-09-24"
   ]
  },
  {
   "cell_type": "markdown",
   "metadata": {},
   "source": [
    "## Preliminaries"
   ]
  },
  {
   "cell_type": "markdown",
   "metadata": {},
   "source": [
    "### Parameters"
   ]
  },
  {
   "cell_type": "code",
   "execution_count": 1,
   "metadata": {},
   "outputs": [
    {
     "name": "stdout",
     "output_type": "stream",
     "text": [
      "Loaded parameters.\n",
      "\n"
     ]
    }
   ],
   "source": [
    "debug = True # If True, will produce plots and/or verbose output to double-check\n",
    "rerun_existing = True # If True, will re-run the costly analysis of existing infra even if files already exist.\n",
    "%run -i \"../parameters/parameters.py\""
   ]
  },
  {
   "cell_type": "markdown",
   "metadata": {},
   "source": [
    "### Setup"
   ]
  },
  {
   "cell_type": "code",
   "execution_count": 2,
   "metadata": {},
   "outputs": [
    {
     "name": "stdout",
     "output_type": "stream",
     "text": [
      "Loaded PATH.\n",
      "\n",
      "\n",
      "\n",
      "=== Cities ===\n",
      "{   'newcastle': {   'countryid': 'gbr',\n",
      "                     'name': 'Newcastle upon Tyne',\n",
      "                     'nominatimstring': 'Newcastle upon Tyne'}}\n",
      "==============\n",
      "\n",
      "\n",
      "Setup finished.\n",
      "\n"
     ]
    }
   ],
   "source": [
    "%run -i path.py\n",
    "%run -i setup.py\n",
    "if not debug: # Only do this if sure the code is bug-free!\n",
    "    warnings.filterwarnings('ignore')\n",
    "\n",
    "%load_ext watermark\n",
    "#%watermark -n -v -m -g -iv"
   ]
  },
  {
   "cell_type": "markdown",
   "metadata": {},
   "source": [
    "### Functions"
   ]
  },
  {
   "cell_type": "code",
   "execution_count": 3,
   "metadata": {},
   "outputs": [
    {
     "name": "stdout",
     "output_type": "stream",
     "text": [
      "Loaded functions.\n",
      "\n"
     ]
    }
   ],
   "source": [
    "%run -i functions.py"
   ]
  },
  {
   "cell_type": "markdown",
   "metadata": {},
   "source": [
    "### Network weighting by tags"
   ]
  },
  {
   "cell_type": "code",
   "execution_count": 4,
   "metadata": {},
   "outputs": [],
   "source": [
    "%run -i tag_lts.py\n",
    "%run -i distance_cost.py"
   ]
  },
  {
   "cell_type": "markdown",
   "metadata": {},
   "source": [
    "## Loading"
   ]
  },
  {
   "cell_type": "markdown",
   "metadata": {},
   "source": [
    "### Load Results"
   ]
  },
  {
   "cell_type": "code",
   "execution_count": 5,
   "metadata": {},
   "outputs": [],
   "source": [
    "# betweeness\n",
    "filename = PATH[\"results\"] + placeid + \"/\" + f\"{placeid}_poi_{poi_source}_{prune_measure}_weighted.pickle\"  \n",
    "\n",
    "if os.path.exists(filename):\n",
    "    with open(filename, \"rb\") as f:\n",
    "        results = pickle.load(f)\n",
    "else:\n",
    "    print(f\"File {filename} does not exist.\")"
   ]
  },
  {
   "cell_type": "code",
   "execution_count": 6,
   "metadata": {},
   "outputs": [],
   "source": [
    "# random\n",
    "filename = PATH[\"results\"] + placeid + \"/\" + f\"{placeid}_poi_{poi_source}_random_weighted.pickle\"  \n",
    "\n",
    "if os.path.exists(filename):\n",
    "    with open(filename, \"rb\") as f:\n",
    "        results_random = pickle.load(f)\n",
    "else:\n",
    "    print(f\"File {filename} does not exist.\")"
   ]
  },
  {
   "cell_type": "code",
   "execution_count": 7,
   "metadata": {},
   "outputs": [],
   "source": [
    "# # how to access....\n",
    "# investment_levels = results[\"prune_quantiles\"]\n",
    "# GTs = results[\"GTs\"]\n",
    "# GT_abstracts = results[\"GT_abstracts\"]\n",
    "\n",
    "# # For example, convert the first graph in GTs to GeoDataFrames\n",
    "# import osmnx as ox\n",
    "# nodes, edges = ox.graph_to_gdfs(GTs[0])\n"
   ]
  },
  {
   "cell_type": "markdown",
   "metadata": {},
   "source": [
    "Find investment level, split results into GTs, GT_abstracts "
   ]
  },
  {
   "cell_type": "code",
   "execution_count": 8,
   "metadata": {},
   "outputs": [],
   "source": [
    "investment_levels = results[\"prune_quantiles\"]\n",
    "investment_levels_random = results_random[\"prune_quantiles\"]\n",
    "GTs = results[\"GTs\"]\n",
    "GT_abstracts = results[\"GT_abstracts\"]\n",
    "\n",
    "if results_random:\n",
    "    GTs_random = results_random[\"GTs\"]\n",
    "    GT_abstracts_random = results_random[\"GT_abstracts\"]"
   ]
  },
  {
   "cell_type": "markdown",
   "metadata": {},
   "source": [
    "### Load existing networks, nodes, GeoDataframe\n",
    "\n"
   ]
  },
  {
   "cell_type": "code",
   "execution_count": null,
   "metadata": {},
   "outputs": [
    {
     "data": {
      "application/vnd.jupyter.widget-view+json": {
       "model_id": "716172ae30c0488daa3dfbec60ec3c00",
       "version_major": 2,
       "version_minor": 0
      },
      "text/plain": [
       "Networks for Cities:   0%|          | 0/1 [00:00<?, ?it/s]"
      ]
     },
     "metadata": {},
     "output_type": "display_data"
    }
   ],
   "source": [
    "for placeid, placeinfo in tqdm(cities.items(), desc=\"Networks for Cities\"):\n",
    "    # get biketrack graph\n",
    "    gpkg_path = PATH[\"data\"] + placeid + \"/\" + placeid + '_biketrack.gpkg'\n",
    "    G_biketrack = ox_gpkg_to_graph(gpkg_path)\n",
    "    G_biketrack.remove_nodes_from(list(nx.isolates(G_biketrack)))\n",
    "\n",
    "\n",
    "    # get biketrack graph without LTNs\n",
    "    gpkg_path = PATH[\"data\"] + placeid + \"/\" + placeid + '_biketrack_no_ltn.gpkg'\n",
    "    G_biketrack_no_ltn = ox_gpkg_to_graph(gpkg_path)\n",
    "    G_biketrack_no_ltn.remove_nodes_from(list(nx.isolates(G_biketrack)))\n",
    "\n",
    "\n",
    "    # get biketrack graph without LTNs\n",
    "    gpkg_path = PATH[\"data\"] + placeid + \"/\" + placeid + '_biketrackcarall.gpkg'\n",
    "    G_biketrackcarall = ox_gpkg_to_graph(gpkg_path)\n",
    "    G_biketrackcarall.remove_nodes_from(list(nx.isolates(G_biketrackcarall)))\n",
    "    \n",
    "    G_biketrackcarall_edges = ox.graph_to_gdfs(G_biketrackcarall, nodes=False)\n"
   ]
  },
  {
   "cell_type": "code",
   "execution_count": 10,
   "metadata": {},
   "outputs": [
    {
     "data": {
      "application/vnd.jupyter.widget-view+json": {
       "model_id": "b5030550a4a14d5c817ea2a4b06e204c",
       "version_major": 2,
       "version_minor": 0
      },
      "text/plain": [
       "Points for Cities:   0%|          | 0/1 [00:00<?, ?it/s]"
      ]
     },
     "metadata": {},
     "output_type": "display_data"
    }
   ],
   "source": [
    "# get nodes \n",
    "\n",
    "for placeid, placeinfo in tqdm(cities.items(), desc=\"Points for Cities\"):\n",
    "    tess_points = gpd.read_file(PATH[\"data\"] + placeid + \"/\" + placeid + '_tess_points.gpkg')\n",
    "    ltn_points = gpd.read_file(PATH[\"data\"] + placeid + \"/\" + placeid + '_ltn_points.gpkg')\n",
    "    combined_points = gpd.read_file(PATH[\"data\"] + placeid + \"/\" + placeid + '_combined_points.gpkg')\n"
   ]
  },
  {
   "cell_type": "code",
   "execution_count": null,
   "metadata": {},
   "outputs": [
    {
     "name": "stdout",
     "output_type": "stream",
     "text": [
      "1 Cities loaded\n"
     ]
    }
   ],
   "source": [
    "# get ltns and all neighbourhoods\n",
    "ltns = load_neighbourhoods(PATH[\"data\"] + placeid + \"/\")\n",
    "key, df = next(iter(ltns.items()))  # Get the first key and its GeoDataFrame  \n",
    "ltns = gpd.GeoDataFrame(df, geometry=\"geometry\", crs=\"EPSG:4326\")  \n",
    "#ltns.explore()\n",
    "\n",
    "# all neighbourhoods (regardless of their \"low traffic\" status)\n",
    "all_neighbourhoods = gpd.read_file(PATH[\"data\"] + placeid + \"/\" + 'neighbourhoods_'+  placeid + '.gpkg') # currently need to manually drag and drop in\n",
    "all_neighbourhoods_centroids = all_neighbourhoods.geometry.centroid\n",
    "all_neighbourhoods_centroids = gpd.GeoDataFrame(geometry= all_neighbourhoods_centroids, crs=all_neighbourhoods.crs)"
   ]
  },
  {
   "cell_type": "code",
   "execution_count": 12,
   "metadata": {},
   "outputs": [],
   "source": [
    "# setup\n",
    "\n",
    "def csv_to_ox(p, placeid, parameterid):\n",
    "    '''\n",
    "    Load graph from csv files (nodes and edge)\n",
    "    Include OSMID, length, highway, x, y attributes\n",
    "    '''\n",
    "\n",
    "    prefix = placeid + '_' + parameterid\n",
    "    compress = check_extract_zip(p, prefix)\n",
    "    \n",
    "    with open(p + prefix + '_edges.csv', 'r') as f:\n",
    "        header = f.readline().strip().split(\",\")\n",
    "        lines = []\n",
    "        for line in csv.reader(f, quotechar='\"', delimiter=',', quoting=csv.QUOTE_ALL, skipinitialspace=True):\n",
    "            line_list = [c for c in line]\n",
    "            osmid = str(eval(line_list[header.index(\"osmid\")])[0]) if isinstance(eval(line_list[header.index(\"osmid\")]), list) else line_list[header.index(\"osmid\")]\n",
    "            length = str(eval(line_list[header.index(\"length\")])[0]) if isinstance(eval(line_list[header.index(\"length\")]), list) else line_list[header.index(\"length\")]\n",
    "            highway = line_list[header.index(\"highway\")]\n",
    "            if highway.startswith(\"[\") and highway.endswith(\"]\"):\n",
    "                highway = highway.strip(\"[]\").split(\",\")[0].strip(\" '\")\n",
    "            line_string = f\"{line_list[header.index('u')]} {line_list[header.index('v')]} {osmid} {length} {highway}\"\n",
    "            lines.append(line_string)\n",
    "        G = nx.parse_edgelist(lines, nodetype=int, data=((\"osmid\", int), (\"length\", float), (\"highway\", str)), create_using=nx.MultiDiGraph)\n",
    "    \n",
    "    with open(p + prefix + '_nodes.csv', 'r') as f:\n",
    "        header = f.readline().strip().split(\",\")\n",
    "        values_x = {}\n",
    "        values_y = {}\n",
    "        for line in csv.reader(f, quotechar='\"', delimiter=',', quoting=csv.QUOTE_ALL, skipinitialspace=True):\n",
    "            line_list = [c for c in line]\n",
    "            osmid = int(line_list[header.index(\"osmid\")])\n",
    "            values_x[osmid] = float(line_list[header.index(\"x\")])\n",
    "            values_y[osmid] = float(line_list[header.index(\"y\")])\n",
    "        nx.set_node_attributes(G, values_x, \"x\")\n",
    "        nx.set_node_attributes(G, values_y, \"y\")\n",
    "    \n",
    "    if compress:\n",
    "        os.remove(p + prefix + '_nodes.csv')\n",
    "        os.remove(p + prefix + '_edges.csv')\n",
    "    return G\n",
    "\n"
   ]
  },
  {
   "cell_type": "markdown",
   "metadata": {},
   "source": [
    "# Analyse"
   ]
  },
  {
   "cell_type": "markdown",
   "metadata": {},
   "source": [
    "### Prelimiary Length"
   ]
  },
  {
   "cell_type": "markdown",
   "metadata": {},
   "source": [
    "Length - finding the distance of the connected network, along with the investment distance (length - existing infrastructure)"
   ]
  },
  {
   "cell_type": "code",
   "execution_count": null,
   "metadata": {},
   "outputs": [],
   "source": [
    "# # Get the first 5 edges\n",
    "# edges = list(G.edges(data=True))[:5]\n",
    "\n",
    "# # Print the edge attributes\n",
    "# for edge in edges:\n",
    "#     print(edge)"
   ]
  },
  {
   "cell_type": "code",
   "execution_count": null,
   "metadata": {},
   "outputs": [],
   "source": [
    "# Extract lengths of all edges in G_biketrack\n",
    "lengths_biketrack = nx.get_edge_attributes(G_biketrack, 'length')\n",
    "total_length_biketrack = sum(lengths_biketrack.values())\n",
    "\n",
    "# Extract lengths of all edges in G_biketrack_no_ltn\n",
    "lengths_biketrack_no_ltn = nx.get_edge_attributes(G_biketrack_no_ltn, 'length')\n",
    "total_length_biketrack_no_ltn = sum(lengths_biketrack_no_ltn.values())\n",
    "\n",
    "# Calculate the difference\n",
    "difference_in_length = total_length_biketrack - total_length_biketrack_no_ltn\n",
    "\n",
    "\n",
    "for G in GTs:\n",
    "    for u, v, data in G.edges(data=True):\n",
    "        highway_type = data.get('highway', 'unclassified') # Default to unclassified if no highway attribute\n",
    "        length = data.get('length', 0) # Default to 0 if no length attribute\n",
    "        investment_length = length * distance_cost.get(highway_type, 1) \n",
    "        data['investment_length'] = investment_length # make a new edge attribute called investment_length\n",
    "    \n",
    "investment_lengths = nx.get_edge_attributes(G, 'investment_length')\n",
    "\n",
    "total_investment_length = sum(investment_lengths.values())\n",
    "\n",
    "\n",
    "\n",
    "\n",
    "\n",
    "\n",
    "complete_network = GTs[-1]\n",
    "final_lengths = nx.get_edge_attributes(complete_network , 'length')\n",
    "total_final_length = sum(final_lengths.values())\n",
    "\n",
    "print(f\"Total length of fully connected network: {total_final_length}\")\n",
    "print(f\"Total length of G_biketrack: {total_length_biketrack}\")\n",
    "print(f\"Total length of G_biketrack_no_ltn: {total_length_biketrack_no_ltn}\")\n",
    "print(f\"Difference in total length: {difference_in_length}\")"
   ]
  },
  {
   "cell_type": "code",
   "execution_count": null,
   "metadata": {},
   "outputs": [],
   "source": [
    "# Calculate the absolute difference\n",
    "ltn_difference = abs(total_length_biketrack - total_length_biketrack_no_ltn)\n",
    "\n",
    "# Data for plotting\n",
    "labels = [\n",
    "    \"Existing Cycle Infrastructure (Including LTNs)\",\n",
    "    \"Existing Cycle Infrastructure (Excluding LTNs)\",\n",
    "    \"LTNs\", \n",
    "    \"Fully Connected Cycle Network\",\n",
    "    \"Investment Distance\"\n",
    "]\n",
    "values = [total_length_biketrack, total_length_biketrack_no_ltn, ltn_difference, total_final_length, total_investment_length]\n",
    "\n",
    "# Plotting the bar chart\n",
    "plt.figure(figsize=(10, 6))\n",
    "plt.bar(labels, values, color=['deepskyblue', 'deepskyblue', 'deepskyblue'])\n",
    "plt.xlabel('Network Type')\n",
    "plt.ylabel('Total Length (meters)')\n",
    "plt.title('Lengths of Cycle Networks')\n",
    "\n",
    "\n",
    "plt.tight_layout()\n",
    "plt.show()"
   ]
  },
  {
   "cell_type": "markdown",
   "metadata": {},
   "source": [
    "#### Pure length - how is the budget used per iteration"
   ]
  },
  {
   "cell_type": "code",
   "execution_count": null,
   "metadata": {},
   "outputs": [],
   "source": [
    "total_lengths = []\n",
    "for G in GTs:\n",
    "    # Use nx.get_edge_attributes to retrieve the edge lengths\n",
    "    lengths = nx.get_edge_attributes(G, 'length')  # Returns a dictionary {edge: length}\n",
    "    total_length = sum(lengths.values())  # Sum up the lengths\n",
    "    total_lengths.append(total_length)\n",
    "\n",
    "# Plot the total lengths\n",
    "plt.figure(figsize=(5, 5))  # Narrower and taller dimensions\n",
    "plt.plot(total_lengths, linestyle='-', color='orange')\n",
    "plt.xlabel('Investment Iteration')\n",
    "plt.ylabel('Total Length (meters)')\n",
    "plt.title('Length of Invested Cycle Network - Betweeness')\n",
    "plt.grid(True)\n",
    "plt.tight_layout()  # Adjust spacing for a clean look\n",
    "plt.show()"
   ]
  },
  {
   "cell_type": "code",
   "execution_count": null,
   "metadata": {},
   "outputs": [],
   "source": [
    "total_lengths = []\n",
    "for G in GTs_random:\n",
    "    # Use nx.get_edge_attributes to retrieve the edge lengths\n",
    "    lengths = nx.get_edge_attributes(G, 'length')  # Returns a dictionary {edge: length}\n",
    "    total_length = sum(lengths.values())  # Sum up the lengths\n",
    "    total_lengths.append(total_length)\n",
    "\n",
    "# Plot the total lengths\n",
    "plt.figure(figsize=(5, 5))  # Narrower and taller dimensions\n",
    "plt.plot(total_lengths, linestyle='-', color='orange')\n",
    "plt.xlabel('Investment Iteration')\n",
    "plt.ylabel('Total Length (meters)')\n",
    "plt.title('Length of Invested Cycle Network - Random')\n",
    "plt.grid(True)\n",
    "plt.tight_layout()  # Adjust spacing for a clean look\n",
    "plt.show()"
   ]
  },
  {
   "cell_type": "code",
   "execution_count": null,
   "metadata": {},
   "outputs": [],
   "source": [
    "\n",
    "total_lengths = []\n",
    "for G in GTs:\n",
    "    lengths = nx.get_edge_attributes(G, 'length')\n",
    "    total_length = sum(lengths.values())\n",
    "    total_lengths.append(total_length)\n",
    "\n",
    "plt.figure(figsize=(5, 5))\n",
    "plt.plot(total_lengths, linestyle='-', color='orange', label='Betweeness Growth')\n",
    "\n",
    "# Plot the total lengths for Random_GTs\n",
    "random_total_lengths = []\n",
    "for G in GTs_random:\n",
    "    lengths = nx.get_edge_attributes(G, 'length')\n",
    "    total_length = sum(lengths.values())\n",
    "    random_total_lengths.append(total_length)\n",
    "\n",
    "plt.plot(random_total_lengths, linestyle='--', color='blue', label='Random Growth')\n",
    "\n",
    "plt.xlabel('Investment Iteration')\n",
    "plt.ylabel('Total Length (meters)')\n",
    "plt.title('Length of Invested Cycle Network')\n",
    "plt.legend()\n",
    "plt.grid(True)\n",
    "plt.tight_layout()\n",
    "plt.show()"
   ]
  },
  {
   "cell_type": "markdown",
   "metadata": {},
   "source": [
    "#### \"Actual\" investment length - how much do we actually need to use to close gaps"
   ]
  },
  {
   "cell_type": "markdown",
   "metadata": {},
   "source": [
    "Calculate length, minus the existing infrastructure"
   ]
  },
  {
   "cell_type": "code",
   "execution_count": null,
   "metadata": {},
   "outputs": [],
   "source": [
    "for G in GTs:\n",
    "    for u, v, data in G.edges(data=True):\n",
    "        highway_type = data.get('highway', 'unclassified') # Default to unclassified if no highway attribute\n",
    "        length = data.get('length', 0) # Default to 0 if no length attribute\n",
    "        investment_length = length * distance_cost.get(highway_type, 1) \n",
    "        data['investment_length'] = investment_length # make a new edge attribute called investment_length\n",
    "\n",
    "if GTs_random:\n",
    "    for G in GTs_random:\n",
    "        for u, v, data in G.edges(data=True):\n",
    "            highway_type = data.get('highway', 'unclassified')\n",
    "            length = data.get('length', 0)\n",
    "            investment_length = length * distance_cost.get(highway_type, 1)\n",
    "            data['investment_length'] = investment_length\n",
    "\n"
   ]
  },
  {
   "cell_type": "markdown",
   "metadata": {},
   "source": [
    "#### Find how much we actually need to invest"
   ]
  },
  {
   "cell_type": "code",
   "execution_count": null,
   "metadata": {},
   "outputs": [],
   "source": [
    "\n",
    "total_lengths = []\n",
    "for G in GTs:\n",
    "    lengths = nx.get_edge_attributes(G, 'investment_length')\n",
    "    total_length = sum(lengths.values())\n",
    "    total_lengths.append(total_length)\n",
    "\n",
    "plt.figure(figsize=(5, 5))\n",
    "plt.plot(total_lengths, linestyle='-', color='orange', label='Betweeness Growth')\n",
    "\n",
    "# Plot the total lengths for Random_GTs\n",
    "random_total_lengths = []\n",
    "for G in GTs_random:\n",
    "    lengths = nx.get_edge_attributes(G, 'investment_length')\n",
    "    total_length = sum(lengths.values())\n",
    "    random_total_lengths.append(total_length)\n",
    "\n",
    "plt.plot(random_total_lengths, linestyle='--', color='blue', label='Random Growth')\n",
    "\n",
    "plt.xlabel('Investment Iteration')\n",
    "plt.ylabel('Total Length (meters)')\n",
    "plt.title('Length of Investment needed')\n",
    "plt.legend()\n",
    "plt.grid(True)\n",
    "plt.tight_layout()\n",
    "plt.show()"
   ]
  },
  {
   "cell_type": "markdown",
   "metadata": {},
   "source": [
    "Find comparison between how much we need against full route lengths"
   ]
  },
  {
   "cell_type": "code",
   "execution_count": null,
   "metadata": {},
   "outputs": [],
   "source": [
    "# Compute total lengths using 'investment_length'\n",
    "investment_total_lengths = [sum(nx.get_edge_attributes(G, 'investment_length').values()) for G in GTs]\n",
    "random_investment_total_lengths = [sum(nx.get_edge_attributes(G, 'investment_length').values()) for G in GTs_random]\n",
    "\n",
    "# Compute total lengths using 'length'\n",
    "length_total_lengths = [sum(nx.get_edge_attributes(G, 'length').values()) for G in GTs]\n",
    "random_length_total_lengths = [sum(nx.get_edge_attributes(G, 'length').values()) for G in GTs_random]\n",
    "\n",
    "# Plot both sets of lines\n",
    "plt.figure(figsize=(6, 6))\n",
    "\n",
    "# Original lines\n",
    "plt.plot(investment_total_lengths, linestyle='-', color='orange', label='Betweenness Growth (Investment Length)')\n",
    "plt.plot(random_investment_total_lengths, linestyle='--', color='blue', label='Random Growth (Investment Length)')\n",
    "\n",
    "# Darker lines for 'length' attribute\n",
    "plt.plot(length_total_lengths, linestyle='-', color='darkorange', alpha=0.7, label='Betweenness Growth (Total Length)')\n",
    "plt.plot(random_length_total_lengths, linestyle='--', color='darkblue', alpha=0.7, label='Random Growth (Total Length)')\n",
    "\n",
    "plt.xlabel('Investment Iteration')\n",
    "plt.ylabel('Total Length (meters)')\n",
    "plt.title('Network size vs investment required comparison')\n",
    "plt.legend()\n",
    "plt.grid(True)\n",
    "plt.tight_layout()\n",
    "plt.show()\n"
   ]
  },
  {
   "cell_type": "markdown",
   "metadata": {},
   "source": [
    "Find differance between network size and required investment"
   ]
  },
  {
   "cell_type": "code",
   "execution_count": null,
   "metadata": {},
   "outputs": [],
   "source": [
    "length_differences = []\n",
    "for G in GTs:\n",
    "    lengths = nx.get_edge_attributes(G, 'length')\n",
    "    investment_lengths = nx.get_edge_attributes(G, 'investment_length')\n",
    "    total_length = sum(lengths.values())\n",
    "    total_investment_length = sum(investment_lengths.values())\n",
    "    length_difference = total_length - total_investment_length\n",
    "    length_differences.append(length_difference)\n",
    "\n",
    "random_length_differences = []\n",
    "for G in GTs_random:\n",
    "    random_lengths = nx.get_edge_attributes(G, 'length')\n",
    "    random_investment_lengths = nx.get_edge_attributes(G, 'investment_length')\n",
    "    random_total_length = sum(random_lengths.values())\n",
    "    random_total_investment_length = sum(random_investment_lengths.values())\n",
    "    random_length_difference = random_total_length - random_total_investment_length\n",
    "    random_length_differences.append(random_length_difference)\n",
    "\n",
    "\n",
    "\n",
    "\n",
    "# Plot the length differences\n",
    "plt.figure(figsize=(5, 5))\n",
    "plt.plot(length_differences, linestyle='-', color='green', label='Betweenness Growth')\n",
    "plt.plot(random_length_differences, linestyle='--', color='blue', label='Random Growth')\n",
    "plt.xlabel('Investment Iteration')\n",
    "plt.ylabel('Length Difference (meters)')\n",
    "plt.title('Length Difference between total network size and investment size required')\n",
    "plt.legend()\n",
    "plt.grid(True)\n",
    "plt.tight_layout()\n",
    "plt.show()"
   ]
  },
  {
   "cell_type": "code",
   "execution_count": null,
   "metadata": {},
   "outputs": [],
   "source": [
    "lengths_list = []\n",
    "investment_lengths_list = []\n",
    "\n",
    "random_lengths_list = []\n",
    "random_investment_lengths_list = []\n",
    "\n",
    "# Process GTs\n",
    "for G in GTs:\n",
    "    lengths = nx.get_edge_attributes(G, 'length')\n",
    "    investment_lengths = nx.get_edge_attributes(G, 'investment_length')\n",
    "    \n",
    "    total_length = sum(lengths.values())\n",
    "    total_investment_length = sum(investment_lengths.values())\n",
    "    \n",
    "    lengths_list.append(total_length)\n",
    "    investment_lengths_list.append(total_investment_length)\n",
    "\n",
    "# Process GTs_random\n",
    "for G in GTs_random:\n",
    "    lengths = nx.get_edge_attributes(G, 'length')\n",
    "    investment_lengths = nx.get_edge_attributes(G, 'investment_length')\n",
    "    \n",
    "    total_length = sum(lengths.values())\n",
    "    total_investment_length = sum(investment_lengths.values())\n",
    "    \n",
    "    random_lengths_list.append(total_length)\n",
    "    random_investment_lengths_list.append(total_investment_length)\n",
    "\n",
    "# Plot the lengths against investment lengths\n",
    "plt.figure(figsize=(8, 6))\n",
    "plt.plot(lengths_list, investment_lengths_list, '-', color='purple', label='Betweenness Growth')\n",
    "plt.plot(random_lengths_list, random_investment_lengths_list, '--', color='blue', label='Random Growth')\n",
    "plt.xlabel('Total Length (meters)')\n",
    "plt.ylabel('Total Investment Length (meters)')\n",
    "plt.title('Investment Length vs. Length for GTs and GTs_random')\n",
    "plt.legend()\n",
    "plt.grid(True)\n",
    "plt.tight_layout()\n",
    "plt.show()"
   ]
  },
  {
   "cell_type": "markdown",
   "metadata": {},
   "source": [
    "### Distance gained"
   ]
  },
  {
   "cell_type": "markdown",
   "metadata": {},
   "source": [
    "Here we are trying to find how much of the existing network is connected per iteration. "
   ]
  },
  {
   "cell_type": "markdown",
   "metadata": {},
   "source": [
    "total bike network - G_bikeall\n",
    "\n",
    "G'investment_length' - investment size\n",
    "\n",
    "G'length' - length of created network, not including netowrk size\n",
    "\n",
    "need to do a compose of G_bikeall and G in GTs\n",
    "\n",
    "but only compose where infrastucutre is connected to our generated network "
   ]
  },
  {
   "cell_type": "markdown",
   "metadata": {},
   "source": [
    "Find the length of infrastructure connected to generated network, along with the combined length. Thus we now know how much extra cycle network is connected per level of investment."
   ]
  },
  {
   "cell_type": "code",
   "execution_count": null,
   "metadata": {},
   "outputs": [],
   "source": [
    "def total_length(G):\n",
    "    \"\"\"Computes total edge length in a graph.\"\"\"\n",
    "    return sum(data.get('length', 1) for _, _, data in G.edges(data=True))\n",
    "\n",
    "def compute_lengths(graph_list, G_biketrack):\n",
    "    \"\"\"Computes total, connected, and combined lengths for a list of graphs.\"\"\"\n",
    "    G_lengths = []\n",
    "    biketrack_lengths = []\n",
    "    combined_lengths = []\n",
    "\n",
    "    for G in graph_list:\n",
    "        length_G = total_length(G)\n",
    "\n",
    "        # Find overlapping nodes\n",
    "        common_nodes = set(G.nodes) & set(G_biketrack.nodes)\n",
    "\n",
    "        # Extract the connected subgraph of G_biketrack\n",
    "        G_biketrack_subgraph = G_biketrack.subgraph(common_nodes)\n",
    "        length_G_biketrack_connected = total_length(G_biketrack_subgraph)\n",
    "\n",
    "        # Compute final combined length\n",
    "        total_combined_length = length_G + length_G_biketrack_connected\n",
    "\n",
    "        # Store values for plotting\n",
    "        G_lengths.append(length_G)\n",
    "        biketrack_lengths.append(length_G_biketrack_connected)\n",
    "        combined_lengths.append(total_combined_length)\n",
    "\n",
    "    return G_lengths, biketrack_lengths, combined_lengths\n",
    "\n",
    "# Compute lengths for both GTs and GTs_random\n",
    "G_lengths, biketrack_lengths, combined_lengths = compute_lengths(GTs, G_biketrack)\n",
    "G_random_lengths, biketrack_random_lengths, combined_random_lengths = compute_lengths(GTs_random, G_biketrack)\n",
    "\n",
    "# Plot the results\n",
    "plt.figure(figsize=(10, 6))\n",
    "\n",
    "# Plot GTs\n",
    "#plt.plot(range(1, len(GTs) + 1), G_lengths, marker='o', linestyle='-', color='blue', label=\"G (GTs)\")\n",
    "plt.plot(range(1, len(GTs) + 1), biketrack_lengths,  linestyle='-', color='green', label=\"Betweeness\")\n",
    "#plt.plot(range(1, len(GTs) + 1), combined_lengths, marker='^', linestyle='-', color='purple', label=\"Combined Total (GTs)\")\n",
    "\n",
    "# Plot GTs_random\n",
    "#plt.plot(range(1, len(GTs_random) + 1), G_random_lengths, marker='o', linestyle='--', color='red', label=\"G (GTs_random)\")\n",
    "plt.plot(range(1, len(GTs_random) + 1), biketrack_random_lengths,  linestyle='--', color='orange', label=\"Random)\")\n",
    "#plt.plot(range(1, len(GTs_random) + 1), combined_random_lengths, marker='^', linestyle='--', color='brown', label=\"Combined Total (GTs_random)\")\n",
    "\n",
    "# Labels and title\n",
    "plt.xlabel(\"Iteration\")\n",
    "plt.ylabel(\"Addtional Cycle Infrastucture Connected Length (meters)\")\n",
    "plt.title(\"Graph Length Comparisons (GTs vs. GTs_random)\")\n",
    "plt.legend()\n",
    "plt.grid(True)\n",
    "\n",
    "# Show the plot\n",
    "plt.show()\n"
   ]
  },
  {
   "cell_type": "markdown",
   "metadata": {},
   "source": [
    "### Connected Components "
   ]
  },
  {
   "cell_type": "markdown",
   "metadata": {},
   "source": [
    "Find the length of the largest connected component, first a just our investment, then combined with existing network, then by combined but only where its connected"
   ]
  },
  {
   "cell_type": "code",
   "execution_count": null,
   "metadata": {},
   "outputs": [],
   "source": [
    "# just grown networks\n",
    "\n",
    "# Compute the largest connected component lengths for each graph in GTs\n",
    "lcc_lengths_GTs = []\n",
    "for G in GTs:\n",
    "    largest_cc = max(nx.weakly_connected_components(G), key=len)\n",
    "    subgraph = G.subgraph(largest_cc)\n",
    "    length_lcc = sum(data['length'] for u, v, data in subgraph.edges(data=True))\n",
    "    lcc_lengths_GTs.append(length_lcc)\n",
    "\n",
    "# Compute the largest connected component lengths for each graph in GTs_random\n",
    "lcc_lengths_GTs_random = []\n",
    "for G in GTs_random:\n",
    "    largest_cc = max(nx.weakly_connected_components(G), key=len)\n",
    "    subgraph = G.subgraph(largest_cc)\n",
    "    length_lcc = sum(data['length'] for u, v, data in subgraph.edges(data=True))\n",
    "    lcc_lengths_GTs_random.append(length_lcc)\n",
    "\n",
    "# Create the plot\n",
    "plt.figure(figsize=(10, 6))\n",
    "plt.plot(lcc_lengths_GTs, linestyle='-', color='blue', label='GTs - Largest Connected Component')\n",
    "plt.plot(lcc_lengths_GTs_random, linestyle='--', color='orange', label='GTs_random - Largest Connected Component')\n",
    "plt.xlabel('Graph Index')\n",
    "plt.ylabel('Length (meters)')\n",
    "plt.title('Length of Largest Connected Component per Iteration')\n",
    "plt.legend()\n",
    "plt.grid(True, alpha=0.3)\n",
    "plt.tight_layout()\n",
    "plt.show()\n"
   ]
  },
  {
   "cell_type": "code",
   "execution_count": null,
   "metadata": {},
   "outputs": [],
   "source": [
    "def compute_lcc_lengths(graph_list, G_biketrack):\n",
    "    \"\"\"Computes the total length of the largest connected component for each graph in the list.\"\"\"\n",
    "    total_lengths_lcc = []\n",
    "    \n",
    "    for G in graph_list:\n",
    "        # Compose graphs and find largest connected component\n",
    "        merged = nx.compose(G, G_biketrack)\n",
    "        \n",
    "        # Get weakly connected components (works for both directed/undirected graphs)\n",
    "        components = list(nx.weakly_connected_components(merged))\n",
    "        \n",
    "        if not components:\n",
    "            total_length = 0.0  # Handle empty graph case\n",
    "        else:\n",
    "            # Find largest component by node count\n",
    "            largest_component_nodes = max(components, key=len)\n",
    "            largest_component = merged.subgraph(largest_component_nodes)\n",
    "            \n",
    "            # Calculate total edge length in the largest component\n",
    "            total_length = sum(data['length'] for u, v, data in largest_component.edges(data=True))\n",
    "        \n",
    "        total_lengths_lcc.append(total_length)\n",
    "    \n",
    "    return total_lengths_lcc\n",
    "\n",
    "# Compute LCC lengths for GTs and GTs_random\n",
    "total_lengths_lcc_GTs = compute_lcc_lengths(GTs, G_biketrack)\n",
    "total_lengths_lcc_GTs_random = compute_lcc_lengths(GTs_random, G_biketrack)\n",
    "\n",
    "# Create the plot\n",
    "plt.figure(figsize=(10, 6))\n",
    "\n",
    "# Plot GTs\n",
    "plt.plot(\n",
    "    range(len(total_lengths_lcc_GTs)), total_lengths_lcc_GTs, linestyle='-', color='blue', label=\"GTs\"\n",
    ")\n",
    "\n",
    "# Plot GTs_random\n",
    "plt.plot(\n",
    "    range(len(total_lengths_lcc_GTs_random)), total_lengths_lcc_GTs_random, linestyle='--', color='orange', label=\"GTs_random\"\n",
    ")\n",
    "\n",
    "# Labels and title\n",
    "plt.title('Total Length of Largest Connected Component')\n",
    "plt.xlabel('Graph Index')\n",
    "plt.ylabel('Total Length (meters)')\n",
    "plt.grid(True, axis='y', alpha=0.3)\n",
    "plt.legend()\n",
    "plt.tight_layout()\n",
    "plt.show()\n"
   ]
  },
  {
   "cell_type": "code",
   "execution_count": null,
   "metadata": {},
   "outputs": [],
   "source": [
    "\n",
    "\n",
    "def total_length(G):\n",
    "    \"\"\"Computes total edge length in a graph.\"\"\"\n",
    "    return sum(data.get('length', 1) for _, _, data in G.edges(data=True))\n",
    "\n",
    "def compute_lcc_lengths(graph_list, G_biketrack):\n",
    "    \"\"\"Computes the total length of the largest connected component for each graph in the list.\"\"\"\n",
    "    lcc_lengths = []\n",
    "\n",
    "    for G in graph_list:\n",
    "        # Find the common nodes between G and G_biketrack\n",
    "        common_nodes = set(G.nodes) & set(G_biketrack.nodes)\n",
    "\n",
    "        # If there are no common nodes, we can't compose, so we skip and set LCC length to 0\n",
    "        if not common_nodes:\n",
    "            lcc_lengths.append(0.0)\n",
    "            continue\n",
    "        \n",
    "        # Create a subgraph of G_biketrack with only the common nodes\n",
    "        G_biketrack_subgraph = G_biketrack.subgraph(common_nodes)\n",
    "\n",
    "        # Merge G with the G_biketrack subgraph\n",
    "        merged = nx.compose(G, G_biketrack_subgraph)\n",
    "\n",
    "        # Find weakly connected components (works for both directed/undirected graphs)\n",
    "        components = list(nx.weakly_connected_components(merged))\n",
    "\n",
    "        if not components:\n",
    "            total_length_lcc = 0.0  # Handle empty graph case\n",
    "        else:\n",
    "            # Find the largest connected component by node count\n",
    "            largest_component_nodes = max(components, key=len)\n",
    "            largest_component = merged.subgraph(largest_component_nodes)\n",
    "\n",
    "            # Calculate total edge length in the largest component\n",
    "            total_length_lcc = sum(data.get('length', 1) for u, v, data in largest_component.edges(data=True))\n",
    "\n",
    "        lcc_lengths.append(total_length_lcc)\n",
    "\n",
    "    return lcc_lengths\n",
    "\n",
    "# Compute LCC lengths for both GTs and GTs_random\n",
    "lcc_lengths_GTs = compute_lcc_lengths(GTs, G_biketrack)\n",
    "lcc_lengths_GTs_random = compute_lcc_lengths(GTs_random, G_biketrack)\n",
    "\n",
    "# Create the plot\n",
    "plt.figure(figsize=(10, 6))\n",
    "\n",
    "# Plot LCC lengths for GTs\n",
    "plt.plot(range(1, len(lcc_lengths_GTs) + 1), lcc_lengths_GTs, linestyle='-', color='blue', label=\"GTs - LCC Length\")\n",
    "\n",
    "# Plot LCC lengths for GTs_random\n",
    "plt.plot(range(1, len(lcc_lengths_GTs_random) + 1), lcc_lengths_GTs_random, linestyle='--', color='orange', label=\"GTs_random - LCC Length\")\n",
    "\n",
    "# Labels and title\n",
    "plt.xlabel(\"Graph Index\")\n",
    "plt.ylabel(\"Largest Connected Component Length (meters)\")\n",
    "plt.title(\"Largest Connected Component Length (GTs vs. GTs_random)\")\n",
    "plt.legend()\n",
    "plt.grid(True, alpha=0.3)\n",
    "\n",
    "# Show the plot\n",
    "plt.tight_layout()\n",
    "plt.show()\n"
   ]
  },
  {
   "cell_type": "markdown",
   "metadata": {},
   "source": [
    "### Coverage"
   ]
  },
  {
   "cell_type": "markdown",
   "metadata": {},
   "source": [
    "Prior to running any coverage analysis, we create buffers of each graph to avoid re-calculating"
   ]
  },
  {
   "cell_type": "code",
   "execution_count": 72,
   "metadata": {},
   "outputs": [],
   "source": [
    "GTs_buffers = []\n",
    "\n",
    "for G in GTs:\n",
    "    gdf_edges = ox.graph_to_gdfs(G, nodes=False).to_crs(epsg=3857)\n",
    "    buffer_gdf = gdf_edges.geometry.buffer(buffer_walk).unary_union\n",
    "    buffer_gdf = gpd.GeoDataFrame(geometry=[buffer_gdf], crs=gdf_edges.crs)\n",
    "    buffer_gdf = buffer_gdf.to_crs(epsg=4326)\n",
    "    GTs_buffers.append(buffer_gdf)\n",
    "\n",
    "GTs_buffers_random = []\n",
    "for G in GTs_random:\n",
    "    gdf_edges = ox.graph_to_gdfs(G, nodes=False).to_crs(epsg=3857)\n",
    "    buffer_gdf = gdf_edges.geometry.buffer(buffer_walk).unary_union\n",
    "    buffer_gdf = gpd.GeoDataFrame(geometry=[buffer_gdf], crs=gdf_edges.crs)\n",
    "    buffer_gdf = buffer_gdf.to_crs(epsg=4326)\n",
    "    GTs_buffers_random.append(buffer_gdf)"
   ]
  },
  {
   "cell_type": "markdown",
   "metadata": {},
   "source": [
    "#### Area coverage"
   ]
  },
  {
   "cell_type": "code",
   "execution_count": null,
   "metadata": {},
   "outputs": [],
   "source": [
    "target_crs = \"EPSG:3857\"\n",
    "boundary_proj = boundary.to_crs(target_crs)\n",
    "total_area = boundary_proj.unary_union.area  # total area in m²\n",
    "\n",
    "# Function to compute areas (km²) and percentage coverage for a list of buffers\n",
    "def compute_metrics(buffer_list):\n",
    "    areas = []\n",
    "    percentages = []\n",
    "    for gdf in buffer_list:\n",
    "        gdf_proj = gdf.to_crs(target_crs)\n",
    "        inter = gpd.overlay(gdf_proj, boundary_proj, how='intersection')\n",
    "        inter_area = inter.unary_union.area if not inter.empty else 0\n",
    "        areas.append(inter_area / 1e6)  # convert m² to km²\n",
    "        percentages.append((inter_area / total_area * 100) if total_area else 0)\n",
    "    return areas, percentages\n",
    "\n",
    "# Compute metrics for both buffer sets\n",
    "areas1, perc1 = compute_metrics(GTs_buffers)\n",
    "areas2, perc2 = compute_metrics(GTs_buffers_random)\n",
    "\n",
    "# Plot 1: Compare areas (in km²) for both buffer sets on one graph\n",
    "plt.figure(figsize=(10, 5))\n",
    "plt.plot(areas1, 'b-o', label='GTs_buffers Area (km²)')\n",
    "plt.plot(areas2, 'g-o', label='GTs_buffers_random Area (km²)')\n",
    "plt.xlabel('Buffer Index')\n",
    "plt.ylabel('Area (km²)')\n",
    "plt.title('Boundary Intersection Area Comparison')\n",
    "plt.legend()\n",
    "plt.tight_layout()\n",
    "plt.show()\n",
    "\n",
    "# Plot 2: Compare coverage percentages for both buffer sets on one graph\n",
    "plt.figure(figsize=(10, 5))\n",
    "plt.plot(perc1, 'r-s', label='GTs_buffers Coverage (%)')\n",
    "plt.plot(perc2, 'm-s', label='GTs_buffers_random Coverage (%)')\n",
    "plt.xlabel('Buffer Index')\n",
    "plt.ylabel('Coverage (%)')\n",
    "plt.title('Boundary Coverage Percentage Comparison')\n",
    "plt.legend()\n",
    "plt.tight_layout()\n",
    "plt.show()"
   ]
  },
  {
   "cell_type": "markdown",
   "metadata": {},
   "source": [
    "#### Streets coverage"
   ]
  },
  {
   "cell_type": "code",
   "execution_count": 90,
   "metadata": {},
   "outputs": [
    {
     "data": {
      "image/png": "[encoded data removed]",
      "text/plain": [
       "<Figure size 1000x500 with 1 Axes>"
      ]
     },
     "metadata": {},
     "output_type": "display_data"
    },
    {
     "data": {
      "image/png": "[encoded data removed]",
      "text/plain": [
       "<Figure size 1000x500 with 1 Axes>"
      ]
     },
     "metadata": {},
     "output_type": "display_data"
    }
   ],
   "source": [
    "network_crs = G_biketrackcarall_edges.crs\n",
    "total_network_length = G_biketrackcarall_edges[\"length\"].sum()\n",
    "\n",
    "def compute_street_coverage(buffer_list):\n",
    "    lengths = []\n",
    "    percentages = []\n",
    "    for gdf in buffer_list:\n",
    "        # Reproject buffers to network CRS if needed\n",
    "        gdf_proj = gdf.to_crs(network_crs)\n",
    "        # Compute intersection between network and buffer\n",
    "        inter = gpd.overlay(G_biketrackcarall_edges, gdf_proj, how='intersection')\n",
    "        # Sum the existing \"length\" values from the intersected segments\n",
    "        seg_length = inter[\"length\"].sum() if not inter.empty else 0\n",
    "        lengths.append(seg_length)\n",
    "        percentages.append((seg_length / total_network_length * 100) if total_network_length else 0)\n",
    "    return lengths, percentages\n",
    "\n",
    "# Compute metrics for both buffer sets\n",
    "net_lengths1, net_perc1 = compute_street_coverage(GTs_buffers)\n",
    "net_lengths2, net_perc2 = compute_street_coverage(GTs_buffers_random)\n",
    "\n",
    "# Plot 1: Compare network lengths (in meters) within each buffer\n",
    "plt.figure(figsize=(10, 5))\n",
    "plt.plot(net_lengths1, 'b-o', label='GTs_buffers Network (m)')\n",
    "plt.plot(net_lengths2, 'g-o', label='GTs_buffers_random Network (m)')\n",
    "plt.xlabel('Buffer Index')\n",
    "plt.ylabel('Network Length (m)')\n",
    "plt.title('Street Network Length within Buffers')\n",
    "plt.legend()\n",
    "plt.tight_layout()\n",
    "plt.show()\n",
    "\n",
    "# Plot 2: Compare network coverage percentages\n",
    "plt.figure(figsize=(10, 5))\n",
    "plt.plot(net_perc1, 'r-s', label='GTs_buffers Coverage (%)')\n",
    "plt.plot(net_perc2, 'm-s', label='GTs_buffers_random Coverage (%)')\n",
    "plt.xlabel('Buffer Index')\n",
    "plt.ylabel('Coverage (%)')\n",
    "plt.title('Percentage of Total Network within Buffers')\n",
    "plt.legend()\n",
    "plt.tight_layout()\n",
    "plt.show()"
   ]
  },
  {
   "cell_type": "markdown",
   "metadata": {},
   "source": [
    "#### Population coverage"
   ]
  },
  {
   "cell_type": "markdown",
   "metadata": {},
   "source": [
    "Get population data from census, asign census data to buildings, find population within cycle route buffer"
   ]
  },
  {
   "cell_type": "code",
   "execution_count": 91,
   "metadata": {},
   "outputs": [
    {
     "name": "stderr",
     "output_type": "stream",
     "text": [
      "C:\\Users\\b8008458\\AppData\\Local\\Temp\\ipykernel_29888\\764894356.py:47: DeprecationWarning: DataFrameGroupBy.apply operated on the grouping columns. This behavior is deprecated, and in a future version of pandas the grouping columns will be excluded from the operation. Either pass `include_groups=False` to exclude the groupings or explicitly select the grouping columns after groupby to silence this warning.\n",
      "  buildings = buildings_joined.groupby('index_right', group_keys=False).apply(assign_pop)\n"
     ]
    }
   ],
   "source": [
    "# get lsoas and population\n",
    "lsoa_bound = gpd.read_file(PATH[\"data\"] + \"/\" + placeid + \"/lsoa_bound.gpkg\")\n",
    "boundary = ox.geocode_to_gdf(placeinfo[\"nominatimstring\"])\n",
    "lsoa_bound = gpd.clip(lsoa_bound, boundary)\n",
    "lsoa_bound = add_lsoa_population(lsoa_bound) # using 2011 census data\n",
    "\n",
    "# get buildings\n",
    "buildings = get_building_populations(lsoa_bound, boundary) ## add more detail??\n",
    "buildings = buildings.to_crs(epsg=4326)"
   ]
  },
  {
   "cell_type": "code",
   "execution_count": null,
   "metadata": {},
   "outputs": [
    {
     "data": {
      "image/png": "[encoded data removed]",
      "text/plain": [
       "<Figure size 1000x500 with 1 Axes>"
      ]
     },
     "metadata": {},
     "output_type": "display_data"
    }
   ],
   "source": [
    "\n",
    "pop_counts_GT = []\n",
    "pop_counts_random_GT = []\n",
    "\n",
    "\n",
    "# Function to calculate total pop_count within each buffer\n",
    "def calculate_pop_count(buffers_list, buildings):\n",
    "    pop_counts = []\n",
    "    for buffer in buffers_list:\n",
    "        intersecting_buildings = gpd.sjoin(buildings, buffer, predicate=\"intersects\")\n",
    "        total_pop = intersecting_buildings[\"pop_assigned\"].sum()\n",
    "        pop_counts.append(total_pop)\n",
    "    return pop_counts\n",
    "\n",
    "# Calculate for both sets of buffers\n",
    "pop_counts_GT = calculate_pop_count(GTs_buffers, buildings)\n",
    "pop_counts_random_GT = calculate_pop_count(GTs_buffers_random, buildings)\n",
    "\n",
    "plt.figure(figsize=(10, 5))\n",
    "buffer_indices = np.arange(len(GTs_buffers))  # Common x-axis indices for both datasets\n",
    "\n",
    "plt.plot(buffer_indices, pop_counts_GT, label=\"GTs Buffers\", linestyle='-', color='blue')\n",
    "plt.plot(buffer_indices, pop_counts_random_GT, label=\"Random GTs Buffers\", linestyle='--', color='orange')\n",
    "\n",
    "plt.xlabel(\"Buffer Index\")\n",
    "plt.ylabel(\"Total Population Count\")\n",
    "plt.title(\"Comparison of Population Within Buffers\")\n",
    "plt.legend()\n",
    "plt.grid(True)\n",
    "plt.show()"
   ]
  },
  {
   "cell_type": "markdown",
   "metadata": {},
   "source": [
    "#### POI coverage"
   ]
  },
  {
   "cell_type": "markdown",
   "metadata": {},
   "source": [
    "##### Seed points"
   ]
  },
  {
   "cell_type": "code",
   "execution_count": 94,
   "metadata": {},
   "outputs": [
    {
     "data": {
      "image/png": "[encoded data removed]",
      "text/plain": [
       "<Figure size 1000x600 with 1 Axes>"
      ]
     },
     "metadata": {},
     "output_type": "display_data"
    }
   ],
   "source": [
    "counts_buffers = []\n",
    "counts_random = []\n",
    "\n",
    "# Iterate over each buffer GeoDataFrame in GTs_buffers\n",
    "for gdf in GTs_buffers:\n",
    "    # Create a union of all polygons in the buffer gdf (if there is more than one)\n",
    "    buffer_union = gdf.unary_union\n",
    "    # Count the points in combined_points that fall within this union\n",
    "    count = combined_points.within(buffer_union).sum()\n",
    "    counts_buffers.append(count)\n",
    "\n",
    "# Do the same for GTs_buffers_random\n",
    "for gdf in GTs_buffers_random:\n",
    "    buffer_union = gdf.unary_union\n",
    "    count = combined_points.within(buffer_union).sum()\n",
    "    counts_random.append(count)\n",
    "\n",
    "# Plotting the results on a line graph\n",
    "plt.figure(figsize=(10, 6))\n",
    "x_vals = range(1, len(counts_buffers) + 1)  # Assuming you want x-axis as buffer index\n",
    "\n",
    "plt.plot(x_vals, counts_buffers, marker='o', label='GTs_buffers')\n",
    "plt.plot(x_vals, counts_random, marker='o', label='GTs_buffers_random')\n",
    "\n",
    "plt.xlabel('Buffer Index')\n",
    "plt.ylabel('Number of Points Covered')\n",
    "plt.title('Points Covered by Each Buffer')\n",
    "plt.legend()\n",
    "plt.grid(True)\n",
    "plt.show()"
   ]
  },
  {
   "cell_type": "markdown",
   "metadata": {},
   "source": [
    "##### LTN Points"
   ]
  },
  {
   "cell_type": "code",
   "execution_count": 95,
   "metadata": {},
   "outputs": [
    {
     "data": {
      "image/png": "[encoded data removed]",
      "text/plain": [
       "<Figure size 1000x600 with 1 Axes>"
      ]
     },
     "metadata": {},
     "output_type": "display_data"
    }
   ],
   "source": [
    "counts_buffers = []\n",
    "counts_random = []\n",
    "\n",
    "# Iterate over each buffer GeoDataFrame in GTs_buffers\n",
    "for gdf in GTs_buffers:\n",
    "    # Create a union of all polygons in the buffer gdf (if there is more than one)\n",
    "    buffer_union = gdf.unary_union\n",
    "    # Count the points that fall within this union\n",
    "    count = ltn_points.within(buffer_union).sum()\n",
    "    counts_buffers.append(count)\n",
    "\n",
    "# Do the same for GTs_buffers_random\n",
    "for gdf in GTs_buffers_random:\n",
    "    buffer_union = gdf.unary_union\n",
    "    count = ltn_points.within(buffer_union).sum()\n",
    "    counts_random.append(count)\n",
    "\n",
    "# Plotting the results on a line graph\n",
    "plt.figure(figsize=(10, 6))\n",
    "x_vals = range(1, len(counts_buffers) + 1)  # Assuming you want x-axis as buffer index\n",
    "\n",
    "plt.plot(x_vals, counts_buffers, marker='o', label='GTs_buffers')\n",
    "plt.plot(x_vals, counts_random, marker='o', label='GTs_buffers_random')\n",
    "\n",
    "plt.xlabel('Buffer Index')\n",
    "plt.ylabel('Number of Points Covered')\n",
    "plt.title('Points Covered by Each Buffer')\n",
    "plt.legend()\n",
    "plt.grid(True)\n",
    "plt.show()"
   ]
  },
  {
   "cell_type": "markdown",
   "metadata": {},
   "source": [
    "##### All neighbourhoods"
   ]
  },
  {
   "cell_type": "code",
   "execution_count": null,
   "metadata": {},
   "outputs": [],
   "source": [
    "# think about how if we were to create future LTNs, where could these go based purely on making more cycling safe?\n",
    "\n",
    "# should these be where the most cycling is on? or which area has the longest bit of cycle network added? "
   ]
  },
  {
   "cell_type": "code",
   "execution_count": 104,
   "metadata": {},
   "outputs": [
    {
     "data": {
      "image/png": "[encoded data removed]",
      "text/plain": [
       "<Figure size 1000x600 with 1 Axes>"
      ]
     },
     "metadata": {},
     "output_type": "display_data"
    }
   ],
   "source": [
    "counts_buffers = []\n",
    "counts_random = []\n",
    "\n",
    "# Iterate over each buffer GeoDataFrame in GTs_buffers\n",
    "for gdf in GTs_buffers:\n",
    "    # Create a union of all polygons in the buffer gdf (if there is more than one)\n",
    "    buffer_union = gdf.unary_union\n",
    "    # Count the points in combined_points that fall within this union\n",
    "    count = all_neighbourhoods_centroids.within(buffer_union).sum()\n",
    "    counts_buffers.append(count)\n",
    "\n",
    "# Do the same for GTs_buffers_random\n",
    "for gdf in GTs_buffers_random:\n",
    "    buffer_union = gdf.unary_union\n",
    "    count = all_neighbourhoods_centroids.within(buffer_union).sum()\n",
    "    counts_random.append(count)\n",
    "\n",
    "# Plotting the results on a line graph\n",
    "plt.figure(figsize=(10, 6))\n",
    "x_vals = range(1, len(counts_buffers) + 1)  # Assuming you want x-axis as buffer index\n",
    "\n",
    "plt.plot(x_vals, counts_buffers, marker='o', label='GTs_buffers')\n",
    "plt.plot(x_vals, counts_random, marker='o', label='GTs_buffers_random')\n",
    "\n",
    "plt.xlabel('Buffer Index')\n",
    "plt.ylabel('Number of Points Covered')\n",
    "plt.title('Points Covered by Each Buffer')\n",
    "plt.legend()\n",
    "plt.grid(True)\n",
    "plt.show()"
   ]
  },
  {
   "cell_type": "markdown",
   "metadata": {},
   "source": [
    "### Overlap"
   ]
  },
  {
   "cell_type": "markdown",
   "metadata": {},
   "source": [
    "Overlap with existing infrastructure. Finding how much of the existing network we overlap, in terms of edges, distance, and % of total network"
   ]
  },
  {
   "cell_type": "code",
   "execution_count": null,
   "metadata": {},
   "outputs": [],
   "source": [
    "# def compare_against_reference(graph_list1, graph_list2, reference_graph):\n",
    "#     \"\"\"\n",
    "#     Compare two lists of graphs against a reference, calculating both:\n",
    "#     1. How much of the reference is covered by each graph (original metric)\n",
    "#     2. How much of each graph is covered by the reference (reverse metric)\n",
    "#     \"\"\"\n",
    "#     def calculate_both_ways(graph, reference):\n",
    "#         # Original: how much of reference is covered by graph\n",
    "#         orig_size_pct, orig_len_pct, orig_edges, orig_len = calculate_overlap_percentages(reference, graph)\n",
    "#         # Reverse: how much of graph is covered by reference\n",
    "#         rev_size_pct, rev_len_pct, rev_edges, rev_len = calculate_overlap_percentages(graph, reference)\n",
    "#         return (orig_size_pct, orig_len_pct, orig_edges, orig_len,\n",
    "#                 rev_size_pct, rev_len_pct, rev_edges, rev_len)\n",
    "    \n",
    "#     metrics_list1 = [calculate_both_ways(g, reference_graph) for g in graph_list1]\n",
    "#     metrics_list2 = [calculate_both_ways(g, reference_graph) for g in graph_list2]\n",
    "    \n",
    "#     return metrics_list1, metrics_list2\n",
    "\n",
    "# def plot_comparison(metrics_GTs, metrics_GTs_random):\n",
    "#     \"\"\"Plot comparison with separate views for both metrics\"\"\"\n",
    "#     fig, axes = plt.subplots(4, 1, figsize=(12, 16))\n",
    "    \n",
    "#     # Original percentage metrics (how much of REFERENCE is covered)\n",
    "#     axes[0].plot([m[0] for m in metrics_GTs], 'b-', label='GTs Size (Ref Covered)')\n",
    "#     axes[0].plot([m[0] for m in metrics_GTs_random], 'r--', label='GTs_random Size (Ref Covered)')\n",
    "#     axes[0].plot([m[1] for m in metrics_GTs], 'g-', label='GTs Length (Ref Covered)')\n",
    "#     axes[0].plot([m[1] for m in metrics_GTs_random], 'm--', label='GTs_random Length (Ref Covered)')\n",
    "#     axes[0].set_title('Percentage of Reference Covered')\n",
    "#     axes[0].set_ylabel('Percentage')\n",
    "#     axes[0].legend()\n",
    "#     axes[0].grid(True)\n",
    "    \n",
    "#     # Reverse percentage metrics (how much of NETWORK is covered by reference)\n",
    "#     axes[1].plot([m[4] for m in metrics_GTs], 'b-', label='GTs Size (Network Covered)')\n",
    "#     axes[1].plot([m[4] for m in metrics_GTs_random], 'r--', label='GTs_random Size (Network Covered)')\n",
    "#     axes[1].plot([m[5] for m in metrics_GTs], 'g-', label='GTs Length (Network Covered)')\n",
    "#     axes[1].plot([m[5] for m in metrics_GTs_random], 'm--', label='GTs_random Length (Network Covered)')\n",
    "#     axes[1].set_title('Percentage of Network Covered by Reference')\n",
    "#     axes[1].set_ylabel('Percentage')\n",
    "#     axes[1].legend()\n",
    "#     axes[1].grid(True)\n",
    "    \n",
    "#     # Raw edge counts\n",
    "#     axes[2].plot([m[2] for m in metrics_GTs], 'b-', label='GTs Edges (Ref Covered)')\n",
    "#     axes[2].plot([m[2] for m in metrics_GTs_random], 'r--', label='GTs_random Edges (Ref Covered)')\n",
    "#     axes[2].plot([m[6] for m in metrics_GTs], 'g-', label='GTs Edges (Network Covered)')\n",
    "#     axes[2].plot([m[6] for m in metrics_GTs_random], 'm--', label='GTs_random Edges (Network Covered)')\n",
    "#     axes[2].set_title('Raw Edge Counts')\n",
    "#     axes[2].set_ylabel('Edges')\n",
    "#     axes[2].legend()\n",
    "#     axes[2].grid(True)\n",
    "    \n",
    "#     # Raw lengths\n",
    "#     axes[3].plot([m[3] for m in metrics_GTs], 'b-', label='GTs Length (Ref Covered)')\n",
    "#     axes[3].plot([m[3] for m in metrics_GTs_random], 'r--', label='GTs_random Length (Ref Covered)')\n",
    "#     axes[3].plot([m[7] for m in metrics_GTs], 'g-', label='GTs Length (Network Covered)')\n",
    "#     axes[3].plot([m[7] for m in metrics_GTs_random], 'm--', label='GTs_random Length (Network Covered)')\n",
    "#     axes[3].set_title('Raw Length Overlap')\n",
    "#     axes[3].set_ylabel('Length')\n",
    "#     axes[3].legend()\n",
    "#     axes[3].grid(True)\n",
    "    \n",
    "#     plt.tight_layout()\n",
    "#     plt.show()\n",
    "\n",
    "# reference = G_biketrack  # Your reference infrastructure\n",
    "# metrics_GTs, metrics_GTs_random = compare_against_reference(GTs, GTs_random, reference)\n",
    "# plot_comparison(metrics_GTs, metrics_GTs_random)"
   ]
  },
  {
   "cell_type": "code",
   "execution_count": null,
   "metadata": {},
   "outputs": [],
   "source": [
    "def calculate_overlap_percentages(G_biketrack, G):\n",
    "    # Calculate edge overlap and length overlap\n",
    "    overlapping_edges = 0\n",
    "    overlapping_length = 0\n",
    "    total_edges = G_biketrack.number_of_edges()\n",
    "    total_length = sum(data['length'] for u, v, data in G_biketrack.edges(data=True))\n",
    "    \n",
    "    for u, v, data in G_biketrack.edges(data=True):\n",
    "        if G.has_edge(u, v):\n",
    "            overlapping_edges += 1\n",
    "            overlapping_length += data['length']\n",
    "    \n",
    "    if total_edges == 0:\n",
    "        size_percent = 0.0\n",
    "    else:\n",
    "        size_percent = (overlapping_edges / total_edges) * 100\n",
    "    \n",
    "    if total_length == 0:\n",
    "        length_percent = 0.0\n",
    "    else:\n",
    "        length_percent = (overlapping_length / total_length) * 100\n",
    "    \n",
    "    return size_percent, length_percent, overlapping_edges, overlapping_length\n",
    "\n",
    "\n",
    "def compare_against_existing(graph_list1, graph_list2, reference_graph):\n",
    "    \"\"\"\n",
    "    Compare two lists of graphs against a common reference graph.\n",
    "    Returns metrics for both lists compared to the reference.\n",
    "    \"\"\"\n",
    "    # Calculate metrics for both lists against the reference\n",
    "    metrics_list1 = [calculate_overlap_percentages(g, reference_graph) for g in graph_list1]\n",
    "    metrics_list2 = [calculate_overlap_percentages(g, reference_graph) for g in graph_list2]\n",
    "    \n",
    "    return metrics_list1, metrics_list2\n",
    "\n",
    "def plot_comparison(metrics_GTs, metrics_GTs_random):\n",
    "    \"\"\"Plot comparison between GTs and GTs_random against G_biketrack\"\"\"\n",
    "    fig, (ax1, ax2, ax3) = plt.subplots(3, 1, figsize=(12, 10))\n",
    "    \n",
    "    # Percentage plot\n",
    "    ax1.plot([m[0] for m in metrics_GTs], 'b-', label='GTs Size Overlap (%)')\n",
    "    ax1.plot([m[0] for m in metrics_GTs_random], 'r--', label='GTs_random Size Overlap (%)')\n",
    "    ax1.plot([m[1] for m in metrics_GTs], 'g-', label='GTs Length Overlap (%)')\n",
    "    ax1.plot([m[1] for m in metrics_GTs_random], 'm--', label='GTs_random Length Overlap (%)')\n",
    "    ax1.set_title('Percentage Overlap with Existing Cycle Infrastructure (Including LTNs)')\n",
    "    ax1.set_ylabel('Percentage')\n",
    "    ax1.legend()\n",
    "    ax1.grid(True)\n",
    "    \n",
    "    # Edge count plot\n",
    "    ax2.plot([m[2] for m in metrics_GTs], 'b-', label='GTs Overlapping Edges')\n",
    "    ax2.plot([m[2] for m in metrics_GTs_random], 'r--', label='GTs_random Overlapping Edges')\n",
    "    ax2.set_title('Edge Overlap Comparison')\n",
    "    ax2.set_ylabel('Edge Count')\n",
    "    ax2.legend()\n",
    "    ax2.grid(True)\n",
    "    \n",
    "    # Length plot\n",
    "    ax3.plot([m[3] for m in metrics_GTs], 'g-', label='GTs Overlapping Length')\n",
    "    ax3.plot([m[3] for m in metrics_GTs_random], 'm--', label='GTs_random Overlapping Length')\n",
    "    ax3.set_title('Length Overlap Comparison')\n",
    "    ax3.set_ylabel('Length Units')\n",
    "    ax3.legend()\n",
    "    ax3.grid(True)\n",
    "    \n",
    "    plt.tight_layout()\n",
    "    plt.show()\n",
    "\n",
    "\n",
    "\n",
    "metrics_GTs, metrics_GTs_random = compare_against_existing(GTs, GTs_random, G_biketrack)\n",
    "plot_comparison(metrics_GTs, metrics_GTs_random)"
   ]
  },
  {
   "cell_type": "code",
   "execution_count": null,
   "metadata": {},
   "outputs": [],
   "source": [
    "metrics_GTs, metrics_GTs_random = compare_against_existing(GTs, GTs_random, G_biketrack_no_ltn) # no differance?\n",
    "plot_comparison(metrics_GTs, metrics_GTs_random)"
   ]
  },
  {
   "cell_type": "code",
   "execution_count": null,
   "metadata": {},
   "outputs": [],
   "source": [
    "# #### to explore it\n",
    "\n",
    "# # work in meters\n",
    "# G_biketrack_edges = G_biketrack_edges.to_crs(epsg=3857)\n",
    "# G_edges = G_edges.to_crs(epsg=3857)\n",
    "# G_biketrack_edges['geometry'] = G_biketrack_edges.geometry.buffer(1)\n",
    "# G_edges['geometry'] = G_edges.geometry.buffer(1)\n",
    "# joined = gpd.sjoin(G_biketrack_edges, G_edges, how=\"inner\", predicate=\"intersects\", lsuffix=\"_biketrack\", rsuffix=\"_edge\")\n",
    "\n",
    "# joined.explore()"
   ]
  },
  {
   "cell_type": "markdown",
   "metadata": {},
   "source": [
    "### Directness"
   ]
  },
  {
   "cell_type": "markdown",
   "metadata": {},
   "source": [
    "Directness (Directness=Total Sum of Network Distances/Total Sum of Euclidean Distances​)"
   ]
  },
  {
   "cell_type": "code",
   "execution_count": null,
   "metadata": {},
   "outputs": [],
   "source": [
    "net_dist = []\n",
    "eucl_dist = []\n",
    "directness = []\n",
    "\n",
    "for G in GT_abstracts:\n",
    "    total_net_dist = sum(data.get('eucl_dist', 0) for _, _, data in G.edges(data=True))\n",
    "    total_eucl_dist = sum(data.get('sp_true_distance', 0) for _, _, data in G.edges(data=True))\n",
    "    net_dist.append(total_net_dist)\n",
    "    eucl_dist.append(total_eucl_dist)\n",
    "    if total_net_dist != 0:\n",
    "        ratio = total_eucl_dist / total_net_dist\n",
    "    else:\n",
    "        ratio = None\n",
    "    directness.append(ratio)\n",
    "\n",
    "\n",
    "net_dist_random = []\n",
    "eucl_dist_random = []\n",
    "directness_random = []\n",
    "\n",
    "for G in GT_abstracts_random:\n",
    "    total_net_dist = sum(data.get('eucl_dist', 0) for _, _, data in G.edges(data=True))\n",
    "    total_eucl_dist = sum(data.get('sp_true_distance', 0) for _, _, data in G.edges(data=True))\n",
    "    net_dist_random.append(total_net_dist)\n",
    "    eucl_dist_random.append(total_eucl_dist)\n",
    "    if total_net_dist != 0:\n",
    "        ratio = total_eucl_dist / total_net_dist\n",
    "    else:\n",
    "        ratio = None\n",
    "    directness_random.append(ratio)\n",
    "\n",
    "\n",
    "\n",
    "# Plotting \n",
    "plt.figure(figsize=(10, 6))\n",
    "plt.plot(directness, linestyle='-', color='blue', label='Betweeness')\n",
    "plt.plot(directness_random, linestyle='--', color='orange', label='Random')\n",
    "plt.xlabel('Graph Index')\n",
    "plt.ylabel('Directness (Euclidean / Network Distance)')\n",
    "plt.title('Total Network Directness')\n",
    "plt.grid(True)\n",
    "plt.tight_layout()\n",
    "plt.show()"
   ]
  },
  {
   "cell_type": "code",
   "execution_count": null,
   "metadata": {},
   "outputs": [],
   "source": [
    "# calcaulate directness of existing network to compare against..."
   ]
  },
  {
   "cell_type": "code",
   "execution_count": null,
   "metadata": {},
   "outputs": [],
   "source": []
  },
  {
   "cell_type": "markdown",
   "metadata": {},
   "source": [
    "## Efficiency"
   ]
  },
  {
   "cell_type": "markdown",
   "metadata": {},
   "source": [
    "### Global"
   ]
  },
  {
   "cell_type": "code",
   "execution_count": null,
   "metadata": {},
   "outputs": [],
   "source": [
    "# ## edit plotting\n",
    "# def calculate_efficiency(G):\n",
    "#     \"\"\"Calculate global network efficiency using formula E = 1/(N(N-1)) * Σ 1/d_ij\"\"\"\n",
    "#     # Convert to undirected graph\n",
    "#     undirected_G = nx.Graph(G)\n",
    "#     try:\n",
    "#         return nx.global_efficiency(undirected_G)\n",
    "#     except nx.NetworkXError:\n",
    "#         return 0  # Handle disconnected graphs\n",
    "\n",
    "# def plot_efficiency_comparison(GTs, GTs_random):\n",
    "#     \"\"\"Calculate and plot global efficiency for both graph lists\"\"\"\n",
    "#     # Calculate efficiencies\n",
    "#     eff_GTs = [calculate_efficiency(G) for G in GTs]\n",
    "#     eff_random = [calculate_efficiency(G) for G in GTs_random]\n",
    "    \n",
    "#     # Create plot\n",
    "#     plt.figure(figsize=(10, 6))\n",
    "#     plt.plot(eff_GTs, 'b-', linewidth=2, label='GTs Efficiency')\n",
    "#     plt.plot(eff_random, 'r--', linewidth=2, label='GTs_random Efficiency')\n",
    "    \n",
    "#     plt.title('Global Network Efficiency Comparison\\n$E = \\\\frac{1}{N(N-1)}\\\\sum_{i\\\\neq j} \\\\frac{1}{d_{ij}}$')\n",
    "#     plt.ylabel('Global Efficiency')\n",
    "#     plt.xlabel('Graph Instance Index')\n",
    "#     plt.legend()\n",
    "#     plt.grid(True)\n",
    "#     plt.ylim(0, 1)\n",
    "#     plt.tight_layout()\n",
    "#     plt.show()\n",
    "\n",
    "# # Usage example:\n",
    "# plot_efficiency_comparison(GTs, GTs_random)"
   ]
  },
  {
   "cell_type": "code",
   "execution_count": null,
   "metadata": {},
   "outputs": [],
   "source": [
    "def calculate_global_efficiency(G, numnodepairs=500, normalized=True, weight='weight', debug=False):\n",
    "    \"\"\"Calculates global network efficiency for a graph G.\n",
    "    \n",
    "    Parameters:\n",
    "    - G: NetworkX graph\n",
    "    - numnodepairs: Maximum number of node pairs to consider (for large graphs)\n",
    "    - normalized: If True, normalize by the ideal efficiency based on Euclidean distances (requires 'x' and 'y' node attributes)\n",
    "    - weight: Edge attribute to use for shortest path calculation\n",
    "    - debug: Print debug information\n",
    "    \n",
    "    Returns:\n",
    "    - Global efficiency (normalized or unnormalized)\n",
    "    \"\"\"\n",
    "    if G is None or len(G) < 2:\n",
    "        return 0.0\n",
    "    \n",
    "    nodes = list(G.nodes)\n",
    "    N = len(nodes)\n",
    "    \n",
    "    # Sample nodes if the graph is large\n",
    "    if N > numnodepairs:\n",
    "        sampled_nodes = random.sample(nodes, numnodepairs)\n",
    "    else:\n",
    "        sampled_nodes = nodes\n",
    "    S = len(sampled_nodes)\n",
    "    if S < 2:\n",
    "        return 0.0\n",
    "    \n",
    "    # Calculate the sum of reciprocals of shortest path lengths\n",
    "    total_efficiency = 0.0\n",
    "    for u in sampled_nodes:\n",
    "        try:\n",
    "            # Get shortest paths from u to all other sampled nodes\n",
    "            lengths = nx.single_source_dijkstra_path_length(G, u, weight=weight)\n",
    "            for v in sampled_nodes:\n",
    "                if u == v:\n",
    "                    continue\n",
    "                d = lengths.get(v, float('inf'))\n",
    "                if d > 0 and d != float('inf'):\n",
    "                    total_efficiency += 1 / d\n",
    "        except nx.NetworkXNoPath:\n",
    "            # Handle cases where no path exists from u\n",
    "            continue\n",
    "    \n",
    "    # Calculate the number of considered pairs (excluding self-pairs)\n",
    "    considered_pairs = S * (S - 1)\n",
    "    if considered_pairs == 0:\n",
    "        return 0.0\n",
    "    \n",
    "    # Unnormalized efficiency (sum of reciprocals)\n",
    "    EG = total_efficiency\n",
    "    \n",
    "    if not normalized:\n",
    "        # Apply the formula E = (total_efficiency) / (N*(N-1))\n",
    "        # This scales the sample sum to estimate the total\n",
    "        efficiency = EG / (N * (N - 1))\n",
    "        return efficiency\n",
    "    \n",
    "    # Normalize by the ideal efficiency (Euclidean distances)\n",
    "    # Check for 'x' and 'y' attributes\n",
    "    for node in sampled_nodes:\n",
    "        if 'x' not in G.nodes[node] or 'y' not in G.nodes[node]:\n",
    "            raise KeyError(\"Nodes must have 'x' and 'y' attributes for normalization.\")\n",
    "    \n",
    "    # Calculate ideal efficiency based on Euclidean distance\n",
    "    ideal_total = 0.0\n",
    "    pairs = itertools.permutations(sampled_nodes, 2)\n",
    "    for u, v in pairs:\n",
    "        x1, y1 = G.nodes[u]['x'], G.nodes[u]['y']\n",
    "        x2, y2 = G.nodes[v]['x'], G.nodes[v]['y']\n",
    "        dx = x1 - x2\n",
    "        dy = y1 - y2\n",
    "        distance = (dx**2 + dy**2) ** 0.5\n",
    "        if distance > 0:\n",
    "            ideal_total += 1 / distance\n",
    "    \n",
    "    if ideal_total == 0:\n",
    "        return 0.0\n",
    "    \n",
    "    # Normalized efficiency\n",
    "    efficiency = EG / ideal_total\n",
    "    \n",
    "    if debug:\n",
    "        print(f\"EG: {EG}, Ideal EG: {ideal_total}, Normalized Efficiency: {efficiency}\")\n",
    "    \n",
    "    return efficiency"
   ]
  },
  {
   "cell_type": "code",
   "execution_count": null,
   "metadata": {},
   "outputs": [],
   "source": [
    "calculate_global_efficiency(G, numnodepairs=500, normalized=True, weight='length', debug=False)"
   ]
  },
  {
   "cell_type": "code",
   "execution_count": null,
   "metadata": {},
   "outputs": [],
   "source": [
    "# Calculate efficiencies for both graph sets\n",
    "eff_GTs = [calculate_global_efficiency(G, numnodepairs=500, normalized=True) for G in GTs]\n",
    "eff_GTs_random = [calculate_global_efficiency(G, numnodepairs=500, normalized=True) for G in GTs_random]\n",
    "\n",
    "# Create x-axis values (time steps/graph indices)\n",
    "x = list(range(len(eff_GTs)))\n",
    "x_random = list(range(len(eff_GTs_random)))\n",
    "\n",
    "# Create plot\n",
    "plt.figure(figsize=(10, 6))\n",
    "\n",
    "# Plot both lines\n",
    "plt.plot(x, eff_GTs, label='GTs',  linestyle='-', color='blue')\n",
    "plt.plot(x_random, eff_GTs_random, label='GTs Random', linestyle='--', color='red')\n",
    "\n",
    "# Add labels and title\n",
    "plt.xlabel('Graph Index', fontsize=12)\n",
    "plt.ylabel('Global Efficiency', fontsize=12)\n",
    "plt.title('Global Network Efficiency Comparison', fontsize=14)\n",
    "plt.legend()\n",
    "plt.grid(True, alpha=0.3)\n",
    "\n",
    "# Customize ticks\n",
    "plt.xticks(fontsize=10)\n",
    "plt.yticks(fontsize=10)\n",
    "\n",
    "# Show plot\n",
    "plt.tight_layout()\n",
    "plt.show()"
   ]
  },
  {
   "cell_type": "code",
   "execution_count": null,
   "metadata": {},
   "outputs": [],
   "source": [
    "# Create plot\n",
    "plt.figure(figsize=(10, 6))\n",
    "\n",
    "# Plot both lines\n",
    "plt.plot(x, eff_GTs, label='GTs',  linestyle='-', color='blue')\n",
    "plt.plot(x_random, eff_GTs_random, label='GTs Random', linestyle='--', color='red')\n",
    "\n",
    "# Add labels and title\n",
    "plt.xlabel('Graph Index', fontsize=12)\n",
    "plt.ylabel('Global Efficiency', fontsize=12)\n",
    "plt.title('Global Network Efficiency Comparison', fontsize=14)\n",
    "plt.legend()\n",
    "plt.grid(True, alpha=0.3)\n",
    "\n",
    "# Customize ticks\n",
    "plt.xticks(fontsize=10)\n",
    "plt.yticks(fontsize=10)\n",
    "\n",
    "# Show plot\n",
    "plt.tight_layout()\n",
    "plt.show()"
   ]
  },
  {
   "cell_type": "markdown",
   "metadata": {},
   "source": [
    "### Local"
   ]
  },
  {
   "cell_type": "markdown",
   "metadata": {},
   "source": [
    "Both"
   ]
  },
  {
   "cell_type": "code",
   "execution_count": null,
   "metadata": {},
   "outputs": [],
   "source": [
    "# def calculate_efficiencies(G):\n",
    "#     \"\"\"Calculate both global and local efficiencies\"\"\"\n",
    "#     # Convert to undirected graph\n",
    "#     undirected_G = nx.Graph(G)\n",
    "    \n",
    "#     try:\n",
    "#         global_eff = nx.global_efficiency(undirected_G)\n",
    "#     except nx.NetworkXError:\n",
    "#         global_eff = 0\n",
    "        \n",
    "#     try:\n",
    "#         local_eff = nx.local_efficiency(undirected_G)\n",
    "#     except nx.NetworkXError:\n",
    "#         local_eff = 0\n",
    "        \n",
    "#     return global_eff, local_eff\n",
    "\n",
    "# def plot_efficiency_comparison(GTs, GTs_random):\n",
    "#     \"\"\"Plot comparison of both efficiency metrics\"\"\"\n",
    "#     # Calculate efficiencies\n",
    "#     global_GTs, local_GTs = zip(*[calculate_efficiencies(G) for G in GTs])\n",
    "#     global_random, local_random = zip(*[calculate_efficiencies(G) for G in GTs_random])\n",
    "    \n",
    "#     # Create plots\n",
    "#     fig, (ax1, ax2) = plt.subplots(2, 1, figsize=(12, 10))\n",
    "    \n",
    "#     # Global efficiency plot\n",
    "#     ax1.plot(global_GTs, 'b-', linewidth=2, label='GTs Global Eff')\n",
    "#     ax1.plot(global_random, 'r--', linewidth=2, label='GTs_random Global Eff')\n",
    "#     ax1.set_title('Global Network Efficiency Comparison')\n",
    "#     ax1.set_ylabel('Efficiency')\n",
    "#     ax1.legend()\n",
    "#     ax1.grid(True)\n",
    "#     ax1.set_ylim(0, 1)\n",
    "    \n",
    "#     # Local efficiency plot\n",
    "#     ax2.plot(local_GTs, 'g-', linewidth=2, label='GTs Local Eff')\n",
    "#     ax2.plot(local_random, 'm--', linewidth=2, label='GTs_random Local Eff')\n",
    "#     ax2.set_title('Local Network Efficiency Comparison')\n",
    "#     ax2.set_ylabel('Efficiency')\n",
    "#     ax2.legend()\n",
    "#     ax2.grid(True)\n",
    "#     ax2.set_ylim(0, 1)\n",
    "    \n",
    "#     plt.tight_layout()\n",
    "#     plt.show()\n",
    "\n",
    "# # Usage example:\n",
    "# plot_efficiency_comparison(GTs, GTs_random)"
   ]
  },
  {
   "cell_type": "markdown",
   "metadata": {},
   "source": [
    "## PCT"
   ]
  },
  {
   "cell_type": "code",
   "execution_count": null,
   "metadata": {},
   "outputs": [],
   "source": [
    "# read in pct lines"
   ]
  },
  {
   "cell_type": "markdown",
   "metadata": {},
   "source": [
    "## Pretty plots of networks"
   ]
  },
  {
   "cell_type": "code",
   "execution_count": null,
   "metadata": {},
   "outputs": [],
   "source": [
    "iteration_number = 99"
   ]
  },
  {
   "cell_type": "code",
   "execution_count": null,
   "metadata": {},
   "outputs": [],
   "source": [
    "fig, ax = plt.subplots(figsize=(12, 8))  # Adjust the width and height as needed\n",
    "\n",
    "\n",
    "\n",
    "G_biketrackcarall_edges = ox.graph_to_gdfs(G_biketrackcarall, nodes=False)\n",
    "G_biketrackcarall_edges = G_biketrackcarall_edges.to_crs(epsg=3857)  # Ensure CRS matches\n",
    "G_biketrackcarall_edges.plot(ax=ax, color='lightgrey', linewidth=0.5, alpha=0.8, zorder = 0)  # Light grey with thin linewidth\n",
    "\n",
    "# Add bike track edges\n",
    "#G_biketrack = {}\n",
    "#G_biketrack[placeid] = csv_to_ox(PATH[\"data\"] + placeid + \"/\", placeid, 'biketrack')\n",
    "#G_biketrack[placeid].graph[\"crs\"] = 'epsg:4326'  # Needed for OSMNX's graph_to_gdfs in utils_graph.py\n",
    "#G_biketrack = copy.deepcopy(G_biketrack[placeid])\n",
    "G_biketrack_edges = ox.graph_to_gdfs(G_biketrack, nodes=False)\n",
    "G_biketrack_edges = G_biketrack_edges.to_crs(epsg=3857)\n",
    "G_biketrack_edges.plot(ax=ax, color='turquoise', linewidth=0.5, alpha=0.8, zorder = 1)  # Light grey with thin linewidth\n",
    "\n",
    "\n",
    "# Plot the main graph and layers\n",
    "GT_nodes, GT_edges = ox.graph_to_gdfs(GTs[iteration_number])\n",
    "GT_edges = GT_edges.to_crs(epsg=3857)\n",
    "GT_edges.plot(ax=ax, color='orange')\n",
    "ltn_points.to_crs(epsg=3857).plot(ax=ax, color='red', markersize=10, zorder=4)\n",
    "tess_points.to_crs(epsg=3857).plot(ax=ax, color='green', markersize=5, zorder = 3)\n",
    "\n",
    "\n",
    "ltns = ltns.to_crs(epsg=3857)  # Ensure the CRS matches\n",
    "ltns.plot(ax=ax, color='blue', alpha=0.5, label=f\"Low Traffic Neighbourhoods\", zorder=2)\n",
    "\n",
    "\n",
    "# Remove x and y axis labels and ticks\n",
    "ax.axis('off')  # This removes the entire axis, including labels and ticks\n",
    "\n",
    "# Enhance plot aesthetics\n",
    "ax.set_title(f\"Investment %: {iteration_number}\")\n",
    "ax.legend(loc=\"upper left\")\n",
    "\n",
    "# Show the plot\n",
    "plt.show()\n"
   ]
  },
  {
   "cell_type": "code",
   "execution_count": null,
   "metadata": {},
   "outputs": [],
   "source": [
    "Audio(sound_file, autoplay=True) "
   ]
  }
 ],
 "metadata": {
  "kernelspec": {
   "display_name": "Python 3",
   "language": "python",
   "name": "python3"
  },
  "language_info": {
   "codemirror_mode": {
    "name": "ipython",
    "version": 3
   },
   "file_extension": ".py",
   "mimetype": "text/x-python",
   "name": "python",
   "nbconvert_exporter": "python",
   "pygments_lexer": "ipython3",
   "version": "3.12.6"
  }
 },
 "nbformat": 4,
 "nbformat_minor": 4
}
